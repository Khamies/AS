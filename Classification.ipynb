{
  "nbformat": 4,
  "nbformat_minor": 0,
  "metadata": {
    "colab": {
      "name": "Classification.ipynb",
      "version": "0.3.2",
      "provenance": []
    },
    "kernelspec": {
      "name": "python3",
      "display_name": "Python 3"
    },
    "accelerator": "TPU"
  },
  "cells": [
    {
      "cell_type": "code",
      "metadata": {
        "id": "dqbi3WIN4cbz",
        "colab_type": "code",
        "colab": {}
      },
      "source": [
        "import tensorflow as tf\n",
        "from tensorflow.contrib import eager\n",
        "import numpy as np\n",
        "import matplotlib.pyplot as plt\n",
        "import pandas as pd\n",
        "from sklearn.model_selection import train_test_split"
      ],
      "execution_count": 0,
      "outputs": []
    },
    {
      "cell_type": "code",
      "metadata": {
        "id": "5lH3rLFd4ccA",
        "colab_type": "code",
        "colab": {}
      },
      "source": [
        "tf.enable_eager_execution()"
      ],
      "execution_count": 0,
      "outputs": []
    },
    {
      "cell_type": "code",
      "metadata": {
        "id": "SfAGtib-4tqV",
        "colab_type": "code",
        "colab": {}
      },
      "source": [
        "! git clone  https://github.com/Waleed-Daud/AS.git\n",
        "% cd AS"
      ],
      "execution_count": 0,
      "outputs": []
    },
    {
      "cell_type": "code",
      "metadata": {
        "id": "3sGXnFhu4ccG",
        "colab_type": "code",
        "colab": {}
      },
      "source": [
        "data = np.load(\"./adult/adult_train.npz\")\n",
        "\n",
        "test_data_ = np.load(\"./adult/adult_test.npz\")"
      ],
      "execution_count": 0,
      "outputs": []
    },
    {
      "cell_type": "code",
      "metadata": {
        "id": "LYwrG9-Q4ccP",
        "colab_type": "code",
        "outputId": "e134e40e-bea2-4973-de01-8dce85b8f591",
        "colab": {
          "base_uri": "https://localhost:8080/",
          "height": 35
        }
      },
      "source": [
        "X = data.f.x\n",
        "y = data.f.y\n",
        "A = data.f.a\n",
        "\n",
        "test_data = test_data_.f.x\n",
        "y_test_data = test_data_.f.y\n",
        "A_test_data = test_data_.f.a\n",
        "\n",
        "X.shape"
      ],
      "execution_count": 70,
      "outputs": [
        {
          "output_type": "execute_result",
          "data": {
            "text/plain": [
              "(32561, 113)"
            ]
          },
          "metadata": {
            "tags": []
          },
          "execution_count": 70
        }
      ]
    },
    {
      "cell_type": "code",
      "metadata": {
        "id": "6hRDWBJJ4ccZ",
        "colab_type": "code",
        "colab": {}
      },
      "source": [
        "columns_file = open('./adult/adult_headers.txt','r')\n",
        "columns = columns_file.read()\n",
        "columns_names = columns.split(\"\\n\")"
      ],
      "execution_count": 0,
      "outputs": []
    },
    {
      "cell_type": "code",
      "metadata": {
        "id": "t8f9v0N64cce",
        "colab_type": "code",
        "colab": {}
      },
      "source": [
        "X_frame = pd.DataFrame(X,columns=columns_names) \n",
        "y_frame = pd.DataFrame(y,columns=['y'])\n",
        "A_frame = pd.DataFrame(A,columns=['A'])\n",
        "\n",
        "X_test_frame = pd.DataFrame(test_data,columns=columns_names) \n",
        "y_test_frame = pd.DataFrame(y_test_data,columns=['y']) \n",
        "A_test_frame = pd.DataFrame(A_test_data,columns=['A'])\n",
        "\n",
        "dataset_frame = pd.concat([X_frame,y_frame,A_frame],axis=1)\n",
        "\n",
        "dataset_test =  pd.concat([X_test_frame,y_test_frame,A_test_frame],axis=1)"
      ],
      "execution_count": 0,
      "outputs": []
    },
    {
      "cell_type": "markdown",
      "metadata": {
        "id": "RaQaqECV4ccq",
        "colab_type": "text"
      },
      "source": [
        "### Q. 1.1  Name the 10 features which are most correlated with Y, and the 10 which are most correlated with A, as measured by (absolute) Pearson correlation (ignore any NaN correlations you see."
      ]
    },
    {
      "cell_type": "code",
      "metadata": {
        "id": "IcpFJ_5v4ccw",
        "colab_type": "code",
        "colab": {}
      },
      "source": [
        "data_corr_income = dataset_frame.corr()['y']\n",
        "data_corr_A = dataset_frame.corr()['A']\n",
        "answer1 = data_corr_income.sort_values(ascending=False)[1:12]\n",
        "answer2= data_corr_A.sort_values(ascending=False)[1:12]\n",
        "print(answer1)\n",
        "print(\"#####################################################\")\n",
        "print(answer2)"
      ],
      "execution_count": 0,
      "outputs": []
    },
    {
      "cell_type": "code",
      "metadata": {
        "id": "EfxMbT-w4cdH",
        "colab_type": "code",
        "colab": {}
      },
      "source": [
        "X_train = X_frame.to_numpy()\n",
        "y_train =y_frame.to_numpy()\n",
        "A_train = A_frame.to_numpy()\n",
        "\n",
        "\n",
        "X_train = tf.convert_to_tensor(X_train,dtype=tf.float32)\n",
        "y_train = tf.convert_to_tensor(y_train,dtype=tf.float32)\n",
        "\n",
        "\n",
        "X_test = tf.convert_to_tensor(test_data,dtype=tf.float32)\n",
        "y_test = tf.convert_to_tensor(y_test_data,dtype=tf.float32)\n",
        "\n",
        "A_train = tf.convert_to_tensor(A_train,dtype=tf.float32)\n",
        "A_test = tf.convert_to_tensor(A_test_data,dtype=tf.float32)\n",
        "\n",
        "A = tf.convert_to_tensor(A_frame.to_numpy(),dtype=tf.float32)\n",
        "\n",
        "n = X.shape[1]"
      ],
      "execution_count": 0,
      "outputs": []
    },
    {
      "cell_type": "markdown",
      "metadata": {
        "id": "RVQicRDy1Km4",
        "colab_type": "text"
      },
      "source": [
        "# Helper Functions"
      ]
    },
    {
      "cell_type": "code",
      "metadata": {
        "id": "qHmRGO8V1QhI",
        "colab_type": "code",
        "colab": {}
      },
      "source": [
        "def filter_dataframe(dataset,key):\n",
        "  \n",
        "  female_data_binary = dataset[key] == 1\n",
        "  male_data_binary = dataset[key] == 0\n",
        "  \n",
        "  male_data = dataset[male_data_binary]\n",
        "  female_data = dataset[female_data_binary]\n",
        "  \n",
        "  sex_male_label = male_data['y']\n",
        "  sex_female_label = female_data['y']\n",
        "  \n",
        "  \n",
        "  A_male = male_data['A']\n",
        "  A_female = female_data['A']\n",
        "  \n",
        "  sex_male_data  = male_data.drop(['y','A'], axis =1)\n",
        "  sex_female_data  = female_data.drop(['y','A'], axis =1)\n",
        "  \n",
        "  return sex_male_data,sex_male_label,A_male  , sex_female_data,sex_female_label,A_female\n",
        "\n",
        "\n",
        "\n",
        "def Binary(logits):\n",
        "  \n",
        "  y_soft = tf.sigmoid(logits)\n",
        "  y = tf.cast((y_soft>=0.5),dtype= tf.float32)\n",
        "  \n",
        "  return y\n",
        "\n",
        "\n",
        "def accuracy(y,y_):\n",
        "    y_ = tf.nn.sigmoid(y_)\n",
        "    ans = tf.cast((y_>=0.5),dtype= tf.float32)\n",
        "    res = tf.cast(tf.equal(ans,y),tf.float32)\n",
        "    \n",
        "    return tf.reduce_mean(res)\n",
        "  \n",
        "\n",
        "def RW_accuracy(y1,y1_, y2, y2_):\n",
        "    rw = tf.multiply(tf.constant(0.5),(accuracy(y1,y1_) + accuracy(y2,y2_) ))\n",
        "    return rw\n",
        "\n",
        "\n",
        "def delta_dp(model, dataset):\n",
        "  \n",
        "  DP_male_data_frame,DP_male_label_frame,A_male_frame, DP_female_data_frame, DP_female_label_frame,A_female_frame = filter_dataframe(dataset,'sex_Female')\n",
        "  \n",
        "  \n",
        "  \n",
        "  DP_male_data = tf.convert_to_tensor(DP_male_data_frame.to_numpy() ,dtype=tf.float32) \n",
        "  DP_female_data = tf.convert_to_tensor(DP_female_data_frame.to_numpy() ,dtype=tf.float32) \n",
        "  \n",
        "  DP_male_label = tf.convert_to_tensor(DP_male_label_frame.to_numpy() ,dtype=tf.float32) \n",
        "  DP_female_label = tf.convert_to_tensor(DP_female_label_frame.to_numpy() ,dtype=tf.float32) \n",
        "  \n",
        "  A_DP_male = tf.convert_to_tensor(A_male_frame.to_numpy(), dtype= tf.float32)\n",
        "  A_DP_female = tf.convert_to_tensor(A_female_frame.to_numpy(), dtype= tf.float32)\n",
        "\n",
        "  DP_male_y_ = model(DP_male_data)\n",
        "  DP_female_y_ = model(DP_female_data)\n",
        "\n",
        "  \n",
        "  \n",
        "  DP_female = tf.reduce_mean(tf.multiply(DP_female_y_ , tf.subtract(tf.constant(1.0),A_DP_female)))\n",
        "  DP_male = tf.reduce_mean(tf.multiply(DP_male_y_ , A_DP_male))\n",
        "  \n",
        "  delta_DP = tf.abs(DP_female - DP_male )\n",
        " \n",
        "    \n",
        "  print(\"Female Accuracy: {}\".format(accuracy(DP_female_label,DP_female_y_) ))\n",
        "  print(\"Male Accuracy: {}\".format(accuracy(DP_male_label,DP_male_y_) ))\n",
        "  \n",
        "  return delta_DP.numpy()\n",
        "\n",
        "\n",
        "\n",
        "def RW_accuracy_v2(model, dataset,key):\n",
        "  \n",
        "    male_data_frame,male_label_frame,A_male_frame, female_data_frame, female_label_frame,A_female_frame = filter_dataframe(dataset,key)\n",
        "    \n",
        "    male_data = tf.convert_to_tensor(male_data_frame.to_numpy() ,dtype=tf.float32) \n",
        "    female_data = tf.convert_to_tensor(female_data_frame.to_numpy() ,dtype=tf.float32) \n",
        "    \n",
        "    male_label = tf.convert_to_tensor(male_label_frame.to_numpy() ,dtype=tf.float32) \n",
        "    female_label = tf.convert_to_tensor(female_label_frame.to_numpy() ,dtype=tf.float32) \n",
        "    \n",
        "    A_male = tf.convert_to_tensor(A_male_frame.to_numpy(), dtype= tf.float32)\n",
        "    A_female = tf.convert_to_tensor(A_female_frame.to_numpy(), dtype= tf.float32)\n",
        "\n",
        "    male_y_ = model(male_data)\n",
        "    female_y_ = model(female_data)\n",
        "   \n",
        "\n",
        "    rw = RW_accuracy(female_label,female_y_,male_label,male_y_)    \n",
        "    \n",
        "    return rw"
      ],
      "execution_count": 0,
      "outputs": []
    },
    {
      "cell_type": "markdown",
      "metadata": {
        "id": "fWkSEb1Gzlah",
        "colab_type": "text"
      },
      "source": [
        "# Model"
      ]
    },
    {
      "cell_type": "code",
      "metadata": {
        "id": "cihV_EUhxVqx",
        "colab_type": "code",
        "colab": {}
      },
      "source": [
        "class MLP :\n",
        "  \n",
        "  def __init__(self,input_dim):\n",
        "    \n",
        "    self.model = tf.keras.Sequential(\n",
        "        \n",
        "    [tf.keras.layers.Dense(input_shape=(input_dim,),units=100,activation=tf.nn.relu),\n",
        "    tf.keras.layers.Dense(units=80,activation=tf.nn.relu),\n",
        "    tf.keras.layers.Dense(units=50,activation=tf.nn.relu),\n",
        "    tf.keras.layers.Dense(units=1)]\n",
        "    \n",
        "    )\n",
        "    \n",
        "    self.optimizer = tf.train.AdamOptimizer(learning_rate=0.01)\n",
        "    self.global_step = tf.Variable(0)\n",
        "    \n",
        "  \n",
        "  def loss(self, y,y_):\n",
        "    mloss = tf.reduce_mean(tf.nn.sigmoid_cross_entropy_with_logits(labels=y,logits=y_))\n",
        "    return mloss\n",
        "  \n",
        "  def gradient(self, x,y):\n",
        "    with tf.GradientTape() as tape:\n",
        "        y_ = self.model(x)\n",
        "        mloss = self.loss(y,y_)\n",
        "        return mloss, tape.gradient(mloss,self.model.trainable_variables)\n",
        "      \n",
        "      \n",
        "    \n",
        "  def train(self, X, y, epochs, accuracy):\n",
        "\n",
        "    for ep in range(epochs):\n",
        "        print(\"Epoch: \", ep)\n",
        "        y_ = self.model(X)\n",
        "        mloss, grad = self.gradient(X,y)\n",
        "        self.optimizer.apply_gradients(zip(grad, self.model.trainable_variables),global_step=self.global_step)\n",
        "\n",
        "        print(\"Loss: \",mloss.numpy(), \"######### \",\" Accuracy: \", accuracy(y,y_).numpy())\n",
        "\n",
        "    return self.model    \n",
        " \n",
        "\n",
        "  def predict(self):\n",
        "    return self.model"
      ],
      "execution_count": 0,
      "outputs": []
    },
    {
      "cell_type": "code",
      "metadata": {
        "id": "LieH5GNiycbV",
        "colab_type": "code",
        "colab": {}
      },
      "source": [
        "classifier = MLP(n)"
      ],
      "execution_count": 0,
      "outputs": []
    },
    {
      "cell_type": "markdown",
      "metadata": {
        "id": "4CCh96gPYi04",
        "colab_type": "text"
      },
      "source": [
        "# Training"
      ]
    },
    {
      "cell_type": "code",
      "metadata": {
        "id": "miJfHXDP4cdY",
        "colab_type": "code",
        "colab": {}
      },
      "source": [
        "epochs = 1000\n",
        "classifier.train(X_train,y_train, epochs, accuracy)"
      ],
      "execution_count": 0,
      "outputs": []
    },
    {
      "cell_type": "markdown",
      "metadata": {
        "id": "rDvzyT2PU2xi",
        "colab_type": "text"
      },
      "source": [
        "# Testing"
      ]
    },
    {
      "cell_type": "code",
      "metadata": {
        "id": "LHuu4U2AU16f",
        "colab_type": "code",
        "colab": {}
      },
      "source": [
        "print(\"Total test Accuracy: \", accuracy(y_test,classifier.predict()(X_test)).numpy() )\n",
        "\n",
        "print(\"Delta DP: \", delta_dp(classifier.predict(), dataset_test )) \n",
        "\n",
        "print('Reweighted Accuracy: {}'.format(RW_accuracy_v2(classifier.predict(), dataset_test,'A')))"
      ],
      "execution_count": 0,
      "outputs": []
    },
    {
      "cell_type": "markdown",
      "metadata": {
        "id": "_Pf28KB6ji0g",
        "colab_type": "text"
      },
      "source": [
        "# Q 2.2: Remove the 10 attributes that you identified in the first part as being most highly correlated with A, and retrain."
      ]
    },
    {
      "cell_type": "code",
      "metadata": {
        "id": "MMGZFLxTjv6L",
        "colab_type": "code",
        "colab": {}
      },
      "source": [
        "X_frame_uncr = X_frame.drop(['sex_Male','relationship_Husband','marital-status_Married-civ-spouse', 'hours-per-week', 'occupation_Craft-repair','occupation_Transport-moving',\n",
        "'workclass_Self-emp-not-inc' ,'race_White', 'occupation_Farming-fishing','occupation_Handlers-cleaners'], axis=1)\n",
        "\n",
        "\n",
        "X_train_uncr = X_frame_uncr.to_numpy()\n",
        "y_train_uncr = y_frame.to_numpy()\n",
        "\n",
        "X_train_uncr = tf.convert_to_tensor(X_train_uncr,dtype=tf.float32)\n",
        "y_train_uncr = tf.convert_to_tensor(y_train_uncr,dtype=tf.float32)\n",
        "\n",
        "\n",
        "X_test_frame_uncr = X_test_frame.drop(['sex_Male','relationship_Husband','marital-status_Married-civ-spouse', 'hours-per-week', 'occupation_Craft-repair','occupation_Transport-moving',\n",
        "'workclass_Self-emp-not-inc' ,'race_White', 'occupation_Farming-fishing','occupation_Handlers-cleaners'], axis=1)\n",
        "\n",
        "\n",
        "X_test_uncr = tf.convert_to_tensor(X_test_frame_uncr.to_numpy(),dtype=tf.float32)\n",
        "y_test_uncr = tf.convert_to_tensor(y_test_data,dtype=tf.float32)\n",
        "\n",
        "A_test_uncr = tf.convert_to_tensor(A_test_data,dtype=tf.float32)\n",
        "\n",
        "\n",
        "dataset_test_uncr =  pd.concat([X_test_frame_uncr,y_test_frame,A_test_frame],axis=1)\n",
        "\n",
        "n2 = X_frame_uncr.shape[1]\n",
        "n2"
      ],
      "execution_count": 0,
      "outputs": []
    },
    {
      "cell_type": "code",
      "metadata": {
        "id": "st5_tmyYpY1t",
        "colab_type": "code",
        "colab": {}
      },
      "source": [
        "classifier2 = MLP(n2)"
      ],
      "execution_count": 0,
      "outputs": []
    },
    {
      "cell_type": "code",
      "metadata": {
        "id": "PZUIxmaNpApc",
        "colab_type": "code",
        "colab": {}
      },
      "source": [
        "epochs = 1000\n",
        "classifier2.train(X_train_uncr,y_train_uncr, epochs,accuracy)"
      ],
      "execution_count": 0,
      "outputs": []
    },
    {
      "cell_type": "markdown",
      "metadata": {
        "colab_type": "text",
        "id": "5a8Xc5kmDiAu"
      },
      "source": [
        "# Testing"
      ]
    },
    {
      "cell_type": "code",
      "metadata": {
        "colab_type": "code",
        "id": "03fmyrt8DiAy",
        "colab": {}
      },
      "source": [
        "print(\"Test Accuracy: \", accuracy(y_test_uncr,classifier2.predict()(X_test_uncr)).numpy() )\n",
        "print(\"Delta DP: \", delta_dp(classifier2.predict(), dataset_test_uncr ))\n",
        "\n",
        "print('Reweighted Accuracy: {}'.format(RW_accuracy_v2(classifier2.predict(), dataset_test_uncr, 'A')))"
      ],
      "execution_count": 0,
      "outputs": []
    },
    {
      "cell_type": "markdown",
      "metadata": {
        "id": "fTTljOKmltgl",
        "colab_type": "text"
      },
      "source": [
        "##  Q. 1.3  Let’s take a look at how the features in our data correlate with the learned predictor Ŷ . Which three features in the data are most correlated with Ŷ ? Which three features are most correlated with Ŷ , only looking at examples where A = 0? Which three features are most correlated with Ŷ , only looking at examples where A = 1?"
      ]
    },
    {
      "cell_type": "code",
      "metadata": {
        "id": "ROXgVoGsmM6w",
        "colab_type": "code",
        "colab": {}
      },
      "source": [
        "y_test_pred = Binary(classifier.predict()(X_test))\n",
        "\n",
        "dataset_test['y_'] = pd.DataFrame(y_test_pred.numpy())\n",
        "\n",
        "\n",
        "dataset_test_corr_pred_A0 = dataset_test[dataset_test['A']==0].corr()['y_']\n",
        "dataset_test_corr_pred_A1 = dataset_test[dataset_test['A']==1].corr()['y_']\n",
        "\n",
        "\n",
        "ans1= dataset_test_corr_pred_A0.sort_values(ascending=False)[1:4]\n",
        "ans2= dataset_test_corr_pred_A1.sort_values(ascending=False)[1:4]\n",
        "\n",
        "\n",
        "print(ans1)\n",
        "\n",
        "print(\"#\"*50)\n",
        "\n",
        "print(ans2)\n",
        "\n"
      ],
      "execution_count": 0,
      "outputs": []
    },
    {
      "cell_type": "markdown",
      "metadata": {
        "id": "zng6wAetuNer",
        "colab_type": "text"
      },
      "source": [
        "## Q. 1.4  Now, make a version of this data, but with the attributes called “sex Female” and “sex Male” removed. Train a classifier on this data, exactly as in the previous section, but with the goal of predicting A instead of Y . Report accuracy and reweighted accuracy on the test set of your trained classifier. Remove the attributes that you identified in the first part as being most highly correlated with A, and retrain. Report accuracy and reweighted accuracy on this retrained classifier."
      ]
    },
    {
      "cell_type": "code",
      "metadata": {
        "id": "zFq8tWXctlxZ",
        "colab_type": "code",
        "colab": {}
      },
      "source": [
        "X_train_uncr2 = X_frame.drop(['sex_Male', 'sex_Female'], axis = 1).to_numpy()\n",
        "\n",
        "X_test_uncr2 = X_test_frame.drop(['sex_Male', 'sex_Female'], axis = 1).to_numpy()\n",
        "\n",
        "\n",
        "dataset_test_uncr2 = pd.concat([X_test_frame.drop(['sex_Male', 'sex_Female'], axis = 1), y_test_frame ,A_test_frame ],axis=1)\n",
        "\n",
        "X_train_uncr2 = tf.convert_to_tensor(X_train_uncr2, dtype=tf.float32)\n",
        "X_test_uncr2 = tf.convert_to_tensor(X_test_uncr2, dtype= tf.float32)\n",
        "\n",
        "\n",
        "n3= X_train_uncr2.shape[1]"
      ],
      "execution_count": 0,
      "outputs": []
    },
    {
      "cell_type": "code",
      "metadata": {
        "id": "qD_5TfYo6ZWM",
        "colab_type": "code",
        "colab": {}
      },
      "source": [
        "classifier3 = MLP(n3)"
      ],
      "execution_count": 0,
      "outputs": []
    },
    {
      "cell_type": "code",
      "metadata": {
        "id": "9mw15irW6lwe",
        "colab_type": "code",
        "colab": {}
      },
      "source": [
        "epochs = 1000\n",
        "classifier3.train(X_train_uncr2,A_train,epochs,accuracy)"
      ],
      "execution_count": 0,
      "outputs": []
    },
    {
      "cell_type": "markdown",
      "metadata": {
        "colab_type": "text",
        "id": "ZBuFubWU8GHS"
      },
      "source": [
        "# Testing"
      ]
    },
    {
      "cell_type": "code",
      "metadata": {
        "colab_type": "code",
        "id": "XD2lFsMv8GHf",
        "colab": {}
      },
      "source": [
        "print(\"Test Accuracy: \", accuracy(A_test,classifier3.predict()(X_test_uncr2)).numpy() )\n",
        "\n",
        "\n",
        "print('Reweighted Accuracy: {}'.format(RW_accuracy_v2(classifier3.predict(), dataset_test_uncr2,'A')))"
      ],
      "execution_count": 0,
      "outputs": []
    },
    {
      "cell_type": "markdown",
      "metadata": {
        "id": "d4T0ONw2QnoA",
        "colab_type": "text"
      },
      "source": [
        "## Q. 1.5 So, we can predict both Y and A from the same data with reasonable accuracy. Now, we’re going to theoretically connect the two classifiers we just trained. Suppose you’ve trained some classifier g to predict Y from X. Show that there exists a classifier h which predicts A from X with reweighted accuracy greater than or equal to  1/2 ∆ DP + 1/2 , where ∆ DP is measured with respect to g."
      ]
    },
    {
      "cell_type": "code",
      "metadata": {
        "id": "FFQuuuSCNv6d",
        "colab_type": "code",
        "colab": {}
      },
      "source": [
        "RW1 = 0.5* delta_dp(classifier.predict(), dataset_test ) + 0.5\n",
        "RW2 = (RW_accuracy_v2(classifier3.predict(), dataset_test_uncr2,'A').numpy())\n",
        "\n",
        "print(RW1)\n",
        "print(RW2)\n",
        "\n",
        "\n",
        "print(\" ################################ I'm an engineer not a mathematician #################################\")"
      ],
      "execution_count": 0,
      "outputs": []
    },
    {
      "cell_type": "code",
      "metadata": {
        "id": "LiEgjxPrHx0v",
        "colab_type": "code",
        "colab": {}
      },
      "source": [
        ""
      ],
      "execution_count": 0,
      "outputs": []
    }
  ]
}